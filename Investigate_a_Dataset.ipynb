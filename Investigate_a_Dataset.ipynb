{
 "cells": [
  {
   "cell_type": "markdown",
   "metadata": {},
   "source": [
    "# Project: Investigate a Dataset - [No-Show Appointments]\n",
    "\n",
    "## Table of Contents\n",
    "<ul>\n",
    "<li><a href=\"#intro\">Introduction</a></li>\n",
    "<li><a href=\"#wrangling\">Data Wrangling</a></li>\n",
    "<li><a href=\"#eda\">Exploratory Data Analysis</a></li>\n",
    "<li><a href=\"#conclusions\">Conclusions</a></li>\n",
    "</ul>"
   ]
  },
  {
   "cell_type": "markdown",
   "metadata": {},
   "source": [
    "<a id='intro'></a>\n",
    "## Introduction\n",
    "\n",
    "### Dataset Description \n",
    "\n",
    ">    In this project we will be analysing the data about the No-Show dataset which has information from a 100K medical\n",
    "    appointments in brazil .\n",
    "    \n",
    ">    our main concern here is whether the patient showed up or not and the data we collected here is going to help us \n",
    "    predict if a certain patient is more likely to show up to their appointment or not.\n",
    "    \n",
    "    \n",
    "    \n",
    "#### we collected different kinds of data like the following :\n",
    "    \n",
    ">    *ScheduledDay : which tells us what day the patient set as his appointment .\n",
    "    \n",
    ">    *AppointmentDay : this has the data about The day of the actuall appointment.\n",
    "    \n",
    ">    *AppointmentID and PatientId : they contain the identification of the patient and the appointment .\n",
    "    \n",
    ">    *Gender and Age : they contains whether the patient was a male or a female and the age of the patient,\n",
    "    this can he us see if older patients are more likely to show up or the opposite and who is more likely to\n",
    "    show up men or women ?\n",
    "    \n",
    ">    *Neighbourhood : this is the location in which the hospital is in .\n",
    "    \n",
    ">    *Scholarship : this column means whether this person was in the Brasilian welfare program, simply it's a program \n",
    "    to support poor family and provide help and medical care to them .\n",
    "    \n",
    ">    *Hipertension,Diabetes,Alcoholism and Handicap : they tell us if the person has any of those Diseases, diability\n",
    "    or a certain addiction and those columns are actually very important as many people suffer from at least one of\n",
    "    those diseases and will help us find if any of those make a person go to the appointment or whether having more\n",
    "    than one make the person more likely to show up .\n",
    "    \n",
    ">    *SMS received : which mean how many messages has been sent to the patient and it's also important as we can use it\n",
    "    to decide whether sending more messages and notifications to the person will incourage them to show up or not\n",
    "    \n",
    ">   *No-show : this is the most important data as the entire project will be working around it\n",
    "     NOTE THIS if the entrie is 'No' then the patient showed up and 'Yes' if he didn't .\n",
    "\n",
    "### Question(s) for Analysis\n",
    "\n",
    ">    Their is mainly one question we are gonna adress in our analysis, which is what factors are important in our\n",
    "    analysis and how do they affect whether the person will show up or not .\n",
    "    \n",
    "    \n",
    "    \n",
    "#### Their are some questions which comes after this, like for example :\n",
    "    \n",
    ">    * How is age related to the showing up or not and are older persons more likely to show up or is the opposite ?\n",
    "    \n",
    ">    * what about having a Scholarship ? is this a motivation for the person to show up and not waste it ?\n",
    "    \n",
    ">    * does having a certain disease, disabilite or an addiction make the patients show up ? what about having more  \n",
    "    than one at the same time?\n",
    "    \n",
    ">    * are their certain Appointment Days which people are more likley to show up ? \n",
    "    \n",
    "     \n",
    "     \n",
    "#### We will adress those question in our analysis and find relations between them and the no-show data and also try to compare between the data of the ones who showed up and the ones who didn't"
   ]
  },
  {
   "cell_type": "code",
   "execution_count": 1,
   "metadata": {},
   "outputs": [],
   "source": [
    "# first here we will import all the packages and magic words we are going to use\n",
    "import pandas as pd\n",
    "import numpy as np\n",
    "import matplotlib.pyplot as plt\n",
    "import seaborn as sns\n",
    "\n",
    "# we use the matplotlib magic keyword to make visualizations appear here on our cells\n",
    "% matplotlib inline"
   ]
  },
  {
   "cell_type": "code",
   "execution_count": 2,
   "metadata": {},
   "outputs": [],
   "source": [
    "# Upgrade pandas to use dataframe.explode() function. \n",
    "#!pip install --upgrade pandas==0.25.0"
   ]
  },
  {
   "cell_type": "markdown",
   "metadata": {},
   "source": [
    "<a id='wrangling'></a>\n",
    "## Data Wrangling\n",
    "\n",
    "> The data is already gathered so their is no need for this step,\n",
    "    so before cleaning we will be assessing the data and taking a look around it and find the messy parts and our \n",
    "    data after that we will fix those parts or modifiy it to suit our analysis the best .\n",
    "    \n",
    "> We will be walking step by step with you and help clarifying it as far as we can .\n"
   ]
  },
  {
   "cell_type": "code",
   "execution_count": 3,
   "metadata": {},
   "outputs": [
    {
     "data": {
      "text/html": [
       "<div>\n",
       "<style scoped>\n",
       "    .dataframe tbody tr th:only-of-type {\n",
       "        vertical-align: middle;\n",
       "    }\n",
       "\n",
       "    .dataframe tbody tr th {\n",
       "        vertical-align: top;\n",
       "    }\n",
       "\n",
       "    .dataframe thead th {\n",
       "        text-align: right;\n",
       "    }\n",
       "</style>\n",
       "<table border=\"1\" class=\"dataframe\">\n",
       "  <thead>\n",
       "    <tr style=\"text-align: right;\">\n",
       "      <th></th>\n",
       "      <th>PatientId</th>\n",
       "      <th>AppointmentID</th>\n",
       "      <th>Gender</th>\n",
       "      <th>ScheduledDay</th>\n",
       "      <th>AppointmentDay</th>\n",
       "      <th>Age</th>\n",
       "      <th>Neighbourhood</th>\n",
       "      <th>Scholarship</th>\n",
       "      <th>Hipertension</th>\n",
       "      <th>Diabetes</th>\n",
       "      <th>Alcoholism</th>\n",
       "      <th>Handcap</th>\n",
       "      <th>SMS_received</th>\n",
       "      <th>No-show</th>\n",
       "    </tr>\n",
       "  </thead>\n",
       "  <tbody>\n",
       "    <tr>\n",
       "      <th>0</th>\n",
       "      <td>2.987250e+13</td>\n",
       "      <td>5642903</td>\n",
       "      <td>F</td>\n",
       "      <td>2016-04-29T18:38:08Z</td>\n",
       "      <td>2016-04-29T00:00:00Z</td>\n",
       "      <td>62</td>\n",
       "      <td>JARDIM DA PENHA</td>\n",
       "      <td>0</td>\n",
       "      <td>1</td>\n",
       "      <td>0</td>\n",
       "      <td>0</td>\n",
       "      <td>0</td>\n",
       "      <td>0</td>\n",
       "      <td>No</td>\n",
       "    </tr>\n",
       "    <tr>\n",
       "      <th>1</th>\n",
       "      <td>5.589978e+14</td>\n",
       "      <td>5642503</td>\n",
       "      <td>M</td>\n",
       "      <td>2016-04-29T16:08:27Z</td>\n",
       "      <td>2016-04-29T00:00:00Z</td>\n",
       "      <td>56</td>\n",
       "      <td>JARDIM DA PENHA</td>\n",
       "      <td>0</td>\n",
       "      <td>0</td>\n",
       "      <td>0</td>\n",
       "      <td>0</td>\n",
       "      <td>0</td>\n",
       "      <td>0</td>\n",
       "      <td>No</td>\n",
       "    </tr>\n",
       "    <tr>\n",
       "      <th>2</th>\n",
       "      <td>4.262962e+12</td>\n",
       "      <td>5642549</td>\n",
       "      <td>F</td>\n",
       "      <td>2016-04-29T16:19:04Z</td>\n",
       "      <td>2016-04-29T00:00:00Z</td>\n",
       "      <td>62</td>\n",
       "      <td>MATA DA PRAIA</td>\n",
       "      <td>0</td>\n",
       "      <td>0</td>\n",
       "      <td>0</td>\n",
       "      <td>0</td>\n",
       "      <td>0</td>\n",
       "      <td>0</td>\n",
       "      <td>No</td>\n",
       "    </tr>\n",
       "    <tr>\n",
       "      <th>3</th>\n",
       "      <td>8.679512e+11</td>\n",
       "      <td>5642828</td>\n",
       "      <td>F</td>\n",
       "      <td>2016-04-29T17:29:31Z</td>\n",
       "      <td>2016-04-29T00:00:00Z</td>\n",
       "      <td>8</td>\n",
       "      <td>PONTAL DE CAMBURI</td>\n",
       "      <td>0</td>\n",
       "      <td>0</td>\n",
       "      <td>0</td>\n",
       "      <td>0</td>\n",
       "      <td>0</td>\n",
       "      <td>0</td>\n",
       "      <td>No</td>\n",
       "    </tr>\n",
       "    <tr>\n",
       "      <th>4</th>\n",
       "      <td>8.841186e+12</td>\n",
       "      <td>5642494</td>\n",
       "      <td>F</td>\n",
       "      <td>2016-04-29T16:07:23Z</td>\n",
       "      <td>2016-04-29T00:00:00Z</td>\n",
       "      <td>56</td>\n",
       "      <td>JARDIM DA PENHA</td>\n",
       "      <td>0</td>\n",
       "      <td>1</td>\n",
       "      <td>1</td>\n",
       "      <td>0</td>\n",
       "      <td>0</td>\n",
       "      <td>0</td>\n",
       "      <td>No</td>\n",
       "    </tr>\n",
       "  </tbody>\n",
       "</table>\n",
       "</div>"
      ],
      "text/plain": [
       "      PatientId  AppointmentID Gender          ScheduledDay  \\\n",
       "0  2.987250e+13        5642903      F  2016-04-29T18:38:08Z   \n",
       "1  5.589978e+14        5642503      M  2016-04-29T16:08:27Z   \n",
       "2  4.262962e+12        5642549      F  2016-04-29T16:19:04Z   \n",
       "3  8.679512e+11        5642828      F  2016-04-29T17:29:31Z   \n",
       "4  8.841186e+12        5642494      F  2016-04-29T16:07:23Z   \n",
       "\n",
       "         AppointmentDay  Age      Neighbourhood  Scholarship  Hipertension  \\\n",
       "0  2016-04-29T00:00:00Z   62    JARDIM DA PENHA            0             1   \n",
       "1  2016-04-29T00:00:00Z   56    JARDIM DA PENHA            0             0   \n",
       "2  2016-04-29T00:00:00Z   62      MATA DA PRAIA            0             0   \n",
       "3  2016-04-29T00:00:00Z    8  PONTAL DE CAMBURI            0             0   \n",
       "4  2016-04-29T00:00:00Z   56    JARDIM DA PENHA            0             1   \n",
       "\n",
       "   Diabetes  Alcoholism  Handcap  SMS_received No-show  \n",
       "0         0           0        0             0      No  \n",
       "1         0           0        0             0      No  \n",
       "2         0           0        0             0      No  \n",
       "3         0           0        0             0      No  \n",
       "4         1           0        0             0      No  "
      ]
     },
     "execution_count": 3,
     "metadata": {},
     "output_type": "execute_result"
    }
   ],
   "source": [
    "# First we are going to load the data here and print the first 5 rows .\n",
    "df = pd.read_csv('Database_No_show_appointments/noshowappointments-kagglev2-may-2016.csv')\n",
    "df.head()"
   ]
  },
  {
   "cell_type": "code",
   "execution_count": 4,
   "metadata": {},
   "outputs": [
    {
     "name": "stdout",
     "output_type": "stream",
     "text": [
      "<class 'pandas.core.frame.DataFrame'>\n",
      "RangeIndex: 110527 entries, 0 to 110526\n",
      "Data columns (total 14 columns):\n",
      "PatientId         110527 non-null float64\n",
      "AppointmentID     110527 non-null int64\n",
      "Gender            110527 non-null object\n",
      "ScheduledDay      110527 non-null object\n",
      "AppointmentDay    110527 non-null object\n",
      "Age               110527 non-null int64\n",
      "Neighbourhood     110527 non-null object\n",
      "Scholarship       110527 non-null int64\n",
      "Hipertension      110527 non-null int64\n",
      "Diabetes          110527 non-null int64\n",
      "Alcoholism        110527 non-null int64\n",
      "Handcap           110527 non-null int64\n",
      "SMS_received      110527 non-null int64\n",
      "No-show           110527 non-null object\n",
      "dtypes: float64(1), int64(8), object(5)\n",
      "memory usage: 11.8+ MB\n"
     ]
    }
   ],
   "source": [
    "# here we are going to take a look at the data type of the columns, their names or any missing values .\n",
    "df.info()"
   ]
  },
  {
   "cell_type": "code",
   "execution_count": 5,
   "metadata": {},
   "outputs": [
    {
     "data": {
      "text/plain": [
       "False"
      ]
     },
     "execution_count": 5,
     "metadata": {},
     "output_type": "execute_result"
    }
   ],
   "source": [
    "df.isnull().sum().any()"
   ]
  },
  {
   "cell_type": "code",
   "execution_count": 6,
   "metadata": {},
   "outputs": [
    {
     "data": {
      "text/html": [
       "<div>\n",
       "<style scoped>\n",
       "    .dataframe tbody tr th:only-of-type {\n",
       "        vertical-align: middle;\n",
       "    }\n",
       "\n",
       "    .dataframe tbody tr th {\n",
       "        vertical-align: top;\n",
       "    }\n",
       "\n",
       "    .dataframe thead th {\n",
       "        text-align: right;\n",
       "    }\n",
       "</style>\n",
       "<table border=\"1\" class=\"dataframe\">\n",
       "  <thead>\n",
       "    <tr style=\"text-align: right;\">\n",
       "      <th></th>\n",
       "      <th>PatientId</th>\n",
       "      <th>AppointmentID</th>\n",
       "      <th>Gender</th>\n",
       "      <th>ScheduledDay</th>\n",
       "      <th>AppointmentDay</th>\n",
       "      <th>Age</th>\n",
       "      <th>Neighbourhood</th>\n",
       "      <th>Scholarship</th>\n",
       "      <th>Hipertension</th>\n",
       "      <th>Diabetes</th>\n",
       "      <th>Alcoholism</th>\n",
       "      <th>Handcap</th>\n",
       "      <th>SMS_received</th>\n",
       "      <th>No-show</th>\n",
       "    </tr>\n",
       "  </thead>\n",
       "  <tbody>\n",
       "    <tr>\n",
       "      <th>99832</th>\n",
       "      <td>4.659432e+14</td>\n",
       "      <td>5775010</td>\n",
       "      <td>F</td>\n",
       "      <td>2016-06-06T08:58:13Z</td>\n",
       "      <td>2016-06-06T00:00:00Z</td>\n",
       "      <td>-1</td>\n",
       "      <td>ROMÃO</td>\n",
       "      <td>0</td>\n",
       "      <td>0</td>\n",
       "      <td>0</td>\n",
       "      <td>0</td>\n",
       "      <td>0</td>\n",
       "      <td>0</td>\n",
       "      <td>No</td>\n",
       "    </tr>\n",
       "  </tbody>\n",
       "</table>\n",
       "</div>"
      ],
      "text/plain": [
       "          PatientId  AppointmentID Gender          ScheduledDay  \\\n",
       "99832  4.659432e+14        5775010      F  2016-06-06T08:58:13Z   \n",
       "\n",
       "             AppointmentDay  Age Neighbourhood  Scholarship  Hipertension  \\\n",
       "99832  2016-06-06T00:00:00Z   -1         ROMÃO            0             0   \n",
       "\n",
       "       Diabetes  Alcoholism  Handcap  SMS_received No-show  \n",
       "99832         0           0        0             0      No  "
      ]
     },
     "execution_count": 6,
     "metadata": {},
     "output_type": "execute_result"
    }
   ],
   "source": [
    "# what about the age of the patient ? \n",
    "# we will treat all the <18 of age entries as their parients who signed up but is their any negative values ?\n",
    "df[df['Age'] < 0]"
   ]
  },
  {
   "cell_type": "code",
   "execution_count": 7,
   "metadata": {},
   "outputs": [],
   "source": [
    "# let's grab it's index while we are here\n",
    "index_wrong_entrie = df[df['Age'] < 0].index[0]"
   ]
  },
  {
   "cell_type": "markdown",
   "metadata": {},
   "source": [
    "### Result\n",
    "> The data appears to have no missing values at all which is a good start but both ScheduledDay and AppointmentDay \n",
    "    needs to be in datetime format which we will do in the next step .\n",
    "\n",
    "> also the 'No-show' column entries sounds confusing but we will leave it as the the no in the name helps clarify it\n",
    "    a little, we will just change it from 'No-show' to 'No_Show' .\n",
    "    \n",
    "> also we will need to drop the negative value from the dataset ."
   ]
  },
  {
   "cell_type": "markdown",
   "metadata": {},
   "source": [
    "\n",
    "### Data Cleaning\n",
    "\n",
    "> The first thing we are going to address is the datetime format and how we can change it .\n",
    "\n",
    "> the datetime format in which our two columns is weird and we can't change is using the pd.to_datetime()\n",
    "    without specifying the format ourselves .\n",
    "    you can find the format i used or get more info about it from [here](https://docs.python.org/3/library/datetime.html#strftime-and-strptime-behavior) ."
   ]
  },
  {
   "cell_type": "code",
   "execution_count": 8,
   "metadata": {},
   "outputs": [
    {
     "data": {
      "text/plain": [
       "0    Friday\n",
       "1    Friday\n",
       "2    Friday\n",
       "3    Friday\n",
       "4    Friday\n",
       "Name: ScheduledDay, dtype: object"
      ]
     },
     "execution_count": 8,
     "metadata": {},
     "output_type": "execute_result"
    }
   ],
   "source": [
    "# we will start by changing the 'ScheduledDay' column and see the result.\n",
    "df['ScheduledDay'] = pd.to_datetime(df['ScheduledDay'], format = '%Y-%m-%d %H:%M:%S')\n",
    "df['ScheduledDay'].dt.day_name().head()"
   ]
  },
  {
   "cell_type": "code",
   "execution_count": 9,
   "metadata": {},
   "outputs": [
    {
     "data": {
      "text/plain": [
       "0    Friday\n",
       "1    Friday\n",
       "2    Friday\n",
       "3    Friday\n",
       "4    Friday\n",
       "Name: AppointmentDay, dtype: object"
      ]
     },
     "execution_count": 9,
     "metadata": {},
     "output_type": "execute_result"
    }
   ],
   "source": [
    "# perfect!, it worked so we need to also change the 'AppointmentDay'.\n",
    "df['AppointmentDay'] = pd.to_datetime(df['AppointmentDay'], format = '%Y-%m-%d %H:%M:%S')\n",
    "df['AppointmentDay'].dt.day_name().head()"
   ]
  },
  {
   "cell_type": "code",
   "execution_count": 10,
   "metadata": {},
   "outputs": [],
   "source": [
    "# Now we will drop the row entrie with the -1 age\n",
    "df.drop(index_wrong_entrie, axis = 0, inplace = True)"
   ]
  },
  {
   "cell_type": "code",
   "execution_count": 11,
   "metadata": {},
   "outputs": [
    {
     "data": {
      "text/html": [
       "<div>\n",
       "<style scoped>\n",
       "    .dataframe tbody tr th:only-of-type {\n",
       "        vertical-align: middle;\n",
       "    }\n",
       "\n",
       "    .dataframe tbody tr th {\n",
       "        vertical-align: top;\n",
       "    }\n",
       "\n",
       "    .dataframe thead th {\n",
       "        text-align: right;\n",
       "    }\n",
       "</style>\n",
       "<table border=\"1\" class=\"dataframe\">\n",
       "  <thead>\n",
       "    <tr style=\"text-align: right;\">\n",
       "      <th></th>\n",
       "      <th>PatientId</th>\n",
       "      <th>AppointmentID</th>\n",
       "      <th>Gender</th>\n",
       "      <th>ScheduledDay</th>\n",
       "      <th>AppointmentDay</th>\n",
       "      <th>Age</th>\n",
       "      <th>Neighbourhood</th>\n",
       "      <th>Scholarship</th>\n",
       "      <th>Hipertension</th>\n",
       "      <th>Diabetes</th>\n",
       "      <th>Alcoholism</th>\n",
       "      <th>Handcap</th>\n",
       "      <th>SMS_received</th>\n",
       "      <th>No-show</th>\n",
       "    </tr>\n",
       "  </thead>\n",
       "  <tbody>\n",
       "  </tbody>\n",
       "</table>\n",
       "</div>"
      ],
      "text/plain": [
       "Empty DataFrame\n",
       "Columns: [PatientId, AppointmentID, Gender, ScheduledDay, AppointmentDay, Age, Neighbourhood, Scholarship, Hipertension, Diabetes, Alcoholism, Handcap, SMS_received, No-show]\n",
       "Index: []"
      ]
     },
     "execution_count": 11,
     "metadata": {},
     "output_type": "execute_result"
    }
   ],
   "source": [
    "df[df['Age'] < 0]"
   ]
  },
  {
   "cell_type": "code",
   "execution_count": 12,
   "metadata": {},
   "outputs": [],
   "source": [
    "# now with the last step we will be changing 'no-show' column name\n",
    "df.rename({'No-show':'No_Show'}, axis='columns', inplace = True)"
   ]
  },
  {
   "cell_type": "code",
   "execution_count": 13,
   "metadata": {},
   "outputs": [
    {
     "name": "stdout",
     "output_type": "stream",
     "text": [
      "<class 'pandas.core.frame.DataFrame'>\n",
      "Int64Index: 110526 entries, 0 to 110526\n",
      "Data columns (total 14 columns):\n",
      "PatientId         110526 non-null float64\n",
      "AppointmentID     110526 non-null int64\n",
      "Gender            110526 non-null object\n",
      "ScheduledDay      110526 non-null datetime64[ns]\n",
      "AppointmentDay    110526 non-null datetime64[ns]\n",
      "Age               110526 non-null int64\n",
      "Neighbourhood     110526 non-null object\n",
      "Scholarship       110526 non-null int64\n",
      "Hipertension      110526 non-null int64\n",
      "Diabetes          110526 non-null int64\n",
      "Alcoholism        110526 non-null int64\n",
      "Handcap           110526 non-null int64\n",
      "SMS_received      110526 non-null int64\n",
      "No_Show           110526 non-null object\n",
      "dtypes: datetime64[ns](2), float64(1), int64(8), object(3)\n",
      "memory usage: 12.6+ MB\n"
     ]
    }
   ],
   "source": [
    "df.info()"
   ]
  },
  {
   "cell_type": "markdown",
   "metadata": {},
   "source": [
    "### Result\n",
    "> Perfect!, \n",
    "    Now the data is trimmed and cleaned, their are no missing values no incorrect data types and the names\n",
    "    of the columns are fine.\n",
    "    \n",
    "> Next we will be moving to EDA\n",
    "    "
   ]
  },
  {
   "cell_type": "markdown",
   "metadata": {},
   "source": [
    "<a id='eda'></a>\n",
    "## Exploratory Data Analysis\n",
    "\n",
    "> Here we will answer the question mentioned above and draw relation between variables using visualizations . \n",
    "\n",
    "\n",
    "### Research Question 1 (The important factors and how do they affect our data)\n",
    "> Their are many question which we can adress under our first main question, but we will start with the ones\n",
    "    we mention above .\n",
    "    \n",
    "> The first question we would like to adress is the age and whether is's related to patients showing up or not .\n"
   ]
  },
  {
   "cell_type": "code",
   "execution_count": 14,
   "metadata": {},
   "outputs": [
    {
     "data": {
      "text/html": [
       "<div>\n",
       "<style scoped>\n",
       "    .dataframe tbody tr th:only-of-type {\n",
       "        vertical-align: middle;\n",
       "    }\n",
       "\n",
       "    .dataframe tbody tr th {\n",
       "        vertical-align: top;\n",
       "    }\n",
       "\n",
       "    .dataframe thead th {\n",
       "        text-align: right;\n",
       "    }\n",
       "</style>\n",
       "<table border=\"1\" class=\"dataframe\">\n",
       "  <thead>\n",
       "    <tr style=\"text-align: right;\">\n",
       "      <th></th>\n",
       "      <th>count</th>\n",
       "      <th>mean</th>\n",
       "      <th>std</th>\n",
       "      <th>min</th>\n",
       "      <th>25%</th>\n",
       "      <th>50%</th>\n",
       "      <th>75%</th>\n",
       "      <th>max</th>\n",
       "    </tr>\n",
       "    <tr>\n",
       "      <th>No_Show</th>\n",
       "      <th></th>\n",
       "      <th></th>\n",
       "      <th></th>\n",
       "      <th></th>\n",
       "      <th></th>\n",
       "      <th></th>\n",
       "      <th></th>\n",
       "      <th></th>\n",
       "    </tr>\n",
       "  </thead>\n",
       "  <tbody>\n",
       "    <tr>\n",
       "      <th>No</th>\n",
       "      <td>88207.0</td>\n",
       "      <td>37.790504</td>\n",
       "      <td>23.338645</td>\n",
       "      <td>0.0</td>\n",
       "      <td>18.0</td>\n",
       "      <td>38.0</td>\n",
       "      <td>56.0</td>\n",
       "      <td>115.0</td>\n",
       "    </tr>\n",
       "    <tr>\n",
       "      <th>Yes</th>\n",
       "      <td>22319.0</td>\n",
       "      <td>34.317667</td>\n",
       "      <td>21.965941</td>\n",
       "      <td>0.0</td>\n",
       "      <td>16.0</td>\n",
       "      <td>33.0</td>\n",
       "      <td>51.0</td>\n",
       "      <td>115.0</td>\n",
       "    </tr>\n",
       "  </tbody>\n",
       "</table>\n",
       "</div>"
      ],
      "text/plain": [
       "           count       mean        std  min   25%   50%   75%    max\n",
       "No_Show                                                             \n",
       "No       88207.0  37.790504  23.338645  0.0  18.0  38.0  56.0  115.0\n",
       "Yes      22319.0  34.317667  21.965941  0.0  16.0  33.0  51.0  115.0"
      ]
     },
     "execution_count": 14,
     "metadata": {},
     "output_type": "execute_result"
    }
   ],
   "source": [
    "# first we will groupby the \"No_Show\" column and see it's info .\n",
    "df_grouped = df.groupby('No_Show')\n",
    "df_grouped['Age'].describe()"
   ]
  },
  {
   "cell_type": "code",
   "execution_count": 15,
   "metadata": {},
   "outputs": [],
   "source": [
    "# let's move the yes and no to different dataframes\n",
    "showed_df = df[df['No_Show']=='No']\n",
    "didnt_show_df = df[df['No_Show']=='Yes'] "
   ]
  },
  {
   "cell_type": "code",
   "execution_count": 73,
   "metadata": {},
   "outputs": [
    {
     "data": {
      "image/png": "[encoded data removed]",
      "text/plain": [
       "<matplotlib.figure.Figure at 0x7f278bae4f28>"
      ]
     },
     "metadata": {
      "needs_background": "light"
     },
     "output_type": "display_data"
    }
   ],
   "source": [
    "# now let's plot the Age in both of the DataFrames  \n",
    "showed_df['Age'].plot(kind = 'box', figsize = (7, 7), color= 'orange');\n",
    "didnt_show_df['Age'].plot(kind = 'box', figsize = (7, 7), color = 'red');\n",
    "plt.title('The range of Age between those who showed up and those who didn\\'t', fontsize = 12);\n",
    "plt.ylabel('Age', fontsize = 15);\n",
    "plt.xlabel('The range of the data', fontsize = 14);"
   ]
  },
  {
   "cell_type": "markdown",
   "metadata": {},
   "source": [
    "> the orange box plot represent the range of those who showed up against the red box plot which represents\n",
    " those who didn't\n",
    "\n",
    "> and we can find here that older patient are more likely to show up though the difference is not huge\n",
    "\n",
    "#### the second question is about the Scholarship and it's a simple one .\n",
    "\n",
    "\n",
    "> Before we do anything inorder not to repeat the code we will make a function to take the column name and plot those who have a certain disease and came and those who didn't . "
   ]
  },
  {
   "cell_type": "code",
   "execution_count": 70,
   "metadata": {},
   "outputs": [],
   "source": [
    "# first thing we will create the function \n",
    "def visual(column_name):\n",
    "    numbers = df[df[column_name]== 1]['No_Show'].value_counts()\n",
    "    plt.bar([1, 2], numbers, tick_label = ['Showed up', 'Didn\\'t show']);\n",
    "    plt.title(column_name + ' Counts');\n",
    "    plt.xlabel('Showed up or not');\n",
    "    plt.ylabel('Number or Patients');    "
   ]
  },
  {
   "cell_type": "code",
   "execution_count": 71,
   "metadata": {},
   "outputs": [
    {
     "data": {
      "text/plain": [
       "No     8283\n",
       "Yes    2578\n",
       "Name: No_Show, dtype: int64"
      ]
     },
     "execution_count": 71,
     "metadata": {},
     "output_type": "execute_result"
    }
   ],
   "source": [
    "# let's see whether the patients with a Scholarship showed up or not \n",
    "filt_yes = df['Scholarship']==1\n",
    "df[filt_yes]['No_Show'].value_counts()"
   ]
  },
  {
   "cell_type": "code",
   "execution_count": 72,
   "metadata": {},
   "outputs": [
    {
     "data": {
      "image/png": "[encoded data removed]",
      "text/plain": [
       "<matplotlib.figure.Figure at 0x7f278bbbc4a8>"
      ]
     },
     "metadata": {
      "needs_background": "light"
     },
     "output_type": "display_data"
    }
   ],
   "source": [
    "# let's see a visualization for it\n",
    "# and for some of the next visuals we will be using the visual funcion we created\n",
    "visual('Scholarship')"
   ]
  },
  {
   "cell_type": "markdown",
   "metadata": {},
   "source": [
    "> So most of the poeple who has a Scholarship actually showed up .\n",
    "#### Now the third question is about the patients with a diseases, handicap or an addiction (bad habits). \n"
   ]
  },
  {
   "cell_type": "code",
   "execution_count": 59,
   "metadata": {},
   "outputs": [
    {
     "data": {
      "image/png": "[encoded data removed]",
      "text/plain": [
       "<matplotlib.figure.Figure at 0x7f278b136b70>"
      ]
     },
     "metadata": {
      "needs_background": "light"
     },
     "output_type": "display_data"
    }
   ],
   "source": [
    "#let's first start with the patients with Hipertension\n",
    "visual('Hipertension')"
   ]
  },
  {
   "cell_type": "code",
   "execution_count": 60,
   "metadata": {},
   "outputs": [
    {
     "data": {
      "image/png": "[encoded data removed]",
      "text/plain": [
       "<matplotlib.figure.Figure at 0x7f278b3c50b8>"
      ]
     },
     "metadata": {
      "needs_background": "light"
     },
     "output_type": "display_data"
    }
   ],
   "source": [
    "# the Diabetes\n",
    "visual('Diabetes')"
   ]
  },
  {
   "cell_type": "code",
   "execution_count": 61,
   "metadata": {},
   "outputs": [
    {
     "data": {
      "image/png": "[encoded data removed]",
      "text/plain": [
       "<matplotlib.figure.Figure at 0x7f278b906710>"
      ]
     },
     "metadata": {
      "needs_background": "light"
     },
     "output_type": "display_data"
    }
   ],
   "source": [
    "# the Alcoholism\n",
    "visual('Alcoholism')"
   ]
  },
  {
   "cell_type": "code",
   "execution_count": 62,
   "metadata": {},
   "outputs": [
    {
     "data": {
      "image/png": "[encoded data removed]",
      "text/plain": [
       "<matplotlib.figure.Figure at 0x7f278bb96b00>"
      ]
     },
     "metadata": {
      "needs_background": "light"
     },
     "output_type": "display_data"
    }
   ],
   "source": [
    "# and lastly the Handcap\n",
    "visual('Handcap')"
   ]
  },
  {
   "cell_type": "markdown",
   "metadata": {},
   "source": [
    "> So people who have a certain medical conditions are more likely to show up,\n",
    "what about having more than one ? "
   ]
  },
  {
   "cell_type": "code",
   "execution_count": 63,
   "metadata": {},
   "outputs": [
    {
     "data": {
      "text/plain": [
       "0    84114\n",
       "1    18014\n",
       "2     7710\n",
       "3      624\n",
       "4       63\n",
       "5        1\n",
       "Name: Combined, dtype: int64"
      ]
     },
     "execution_count": 63,
     "metadata": {},
     "output_type": "execute_result"
    }
   ],
   "source": [
    "# we will create a new column to have the combined data \n",
    "df['Combined'] = df['Hipertension'] +df['Diabetes'] +df['Alcoholism'] +df['Handcap']\n",
    "df['Combined'].value_counts()"
   ]
  },
  {
   "cell_type": "markdown",
   "metadata": {},
   "source": [
    "> Their is and entrie of 5 so let's check it out"
   ]
  },
  {
   "cell_type": "code",
   "execution_count": 64,
   "metadata": {},
   "outputs": [
    {
     "data": {
      "text/html": [
       "<div>\n",
       "<style scoped>\n",
       "    .dataframe tbody tr th:only-of-type {\n",
       "        vertical-align: middle;\n",
       "    }\n",
       "\n",
       "    .dataframe tbody tr th {\n",
       "        vertical-align: top;\n",
       "    }\n",
       "\n",
       "    .dataframe thead th {\n",
       "        text-align: right;\n",
       "    }\n",
       "</style>\n",
       "<table border=\"1\" class=\"dataframe\">\n",
       "  <thead>\n",
       "    <tr style=\"text-align: right;\">\n",
       "      <th></th>\n",
       "      <th>PatientId</th>\n",
       "      <th>AppointmentID</th>\n",
       "      <th>Gender</th>\n",
       "      <th>ScheduledDay</th>\n",
       "      <th>AppointmentDay</th>\n",
       "      <th>Age</th>\n",
       "      <th>Neighbourhood</th>\n",
       "      <th>Scholarship</th>\n",
       "      <th>Hipertension</th>\n",
       "      <th>Diabetes</th>\n",
       "      <th>Alcoholism</th>\n",
       "      <th>Handcap</th>\n",
       "      <th>SMS_received</th>\n",
       "      <th>No_Show</th>\n",
       "      <th>Combined</th>\n",
       "    </tr>\n",
       "  </thead>\n",
       "  <tbody>\n",
       "    <tr>\n",
       "      <th>5424</th>\n",
       "      <td>1.647280e+12</td>\n",
       "      <td>5647342</td>\n",
       "      <td>M</td>\n",
       "      <td>2016-05-02 13:24:36</td>\n",
       "      <td>2016-05-04</td>\n",
       "      <td>65</td>\n",
       "      <td>SANTO ANDRÉ</td>\n",
       "      <td>0</td>\n",
       "      <td>1</td>\n",
       "      <td>1</td>\n",
       "      <td>1</td>\n",
       "      <td>2</td>\n",
       "      <td>0</td>\n",
       "      <td>Yes</td>\n",
       "      <td>5</td>\n",
       "    </tr>\n",
       "  </tbody>\n",
       "</table>\n",
       "</div>"
      ],
      "text/plain": [
       "         PatientId  AppointmentID Gender        ScheduledDay AppointmentDay  \\\n",
       "5424  1.647280e+12        5647342      M 2016-05-02 13:24:36     2016-05-04   \n",
       "\n",
       "      Age Neighbourhood  Scholarship  Hipertension  Diabetes  Alcoholism  \\\n",
       "5424   65   SANTO ANDRÉ            0             1         1           1   \n",
       "\n",
       "      Handcap  SMS_received No_Show  Combined  \n",
       "5424        2             0     Yes         5  "
      ]
     },
     "execution_count": 64,
     "metadata": {},
     "output_type": "execute_result"
    }
   ],
   "source": [
    "df[df['Combined'] == 5]"
   ]
  },
  {
   "cell_type": "markdown",
   "metadata": {},
   "source": [
    "> he appears to have 2 handicaps so though me might be an outlier to our data or be strange but he won't mess our analysis up"
   ]
  },
  {
   "cell_type": "code",
   "execution_count": 65,
   "metadata": {},
   "outputs": [
    {
     "data": {
      "image/png": "[encoded data removed]",
      "text/plain": [
       "<matplotlib.figure.Figure at 0x7f278b988400>"
      ]
     },
     "metadata": {
      "needs_background": "light"
     },
     "output_type": "display_data"
    }
   ],
   "source": [
    "# now let's see a comparion for the people with more than one disease who showed up and who didn't\n",
    "df_grouped['Combined'].value_counts().loc['No'].plot(kind = 'bar', alpha = 0.5, figsize = (8, 8), color = 'red', label = 'Showed up');\n",
    "df_grouped['Combined'].value_counts().loc['Yes'].plot(kind = 'bar', alpha = 0.4, figsize = (8, 8), color = 'blue', label = 'didn\\'t Show');\n",
    "plt.title('People with one or more than one');\n",
    "plt.xlabel('Number of diseases', fontsize = 13);\n",
    "plt.ylabel('Number or Patients', fontsize = 13);\n",
    "plt.legend();"
   ]
  },
  {
   "cell_type": "markdown",
   "metadata": {},
   "source": [
    "\n",
    "#### Now the last question let's see if their are certain Appointment Days which people are more likley to show up"
   ]
  },
  {
   "cell_type": "code",
   "execution_count": 66,
   "metadata": {},
   "outputs": [
    {
     "data": {
      "image/png": "[encoded data removed]",
      "text/plain": [
       "<matplotlib.figure.Figure at 0x7f278b7e3630>"
      ]
     },
     "metadata": {
      "needs_background": "light"
     },
     "output_type": "display_data"
    }
   ],
   "source": [
    "# let's first see what is the most popular appointment day\n",
    "df['AppointmentDay'].dt.day_name().value_counts().plot(kind = 'bar');\n",
    "plt.title('Number of appointments per days of the week');\n",
    "plt.xlabel('Days of the week', fontsize = 13);\n",
    "plt.ylabel('Number or Patients', fontsize = 13);"
   ]
  },
  {
   "cell_type": "code",
   "execution_count": 67,
   "metadata": {},
   "outputs": [
    {
     "data": {
      "image/png": "[encoded data removed]",
      "text/plain": [
       "<matplotlib.figure.Figure at 0x7f278bb6cac8>"
      ]
     },
     "metadata": {
      "needs_background": "light"
     },
     "output_type": "display_data"
    }
   ],
   "source": [
    "# it appears to be wednesday now let's see the most popular day among those who showed up\n",
    "showed_df['AppointmentDay'].dt.day_name().value_counts().plot(kind = 'bar');\n",
    "plt.title('Number of appointments who showed up per days of the week');\n",
    "plt.xlabel('Days of the week', fontsize = 13);\n",
    "plt.ylabel('Number or Patients', fontsize = 13);"
   ]
  },
  {
   "cell_type": "markdown",
   "metadata": {},
   "source": [
    "> It appears that most of the appointments who show up come in wednesday, and though it's not 0 but almost no one comes at saturday\n",
    "\n",
    ">before we end let's check who came more men or women"
   ]
  },
  {
   "cell_type": "code",
   "execution_count": 68,
   "metadata": {},
   "outputs": [
    {
     "data": {
      "image/png": "[encoded data removed]",
      "text/plain": [
       "<matplotlib.figure.Figure at 0x7f278bb5aa20>"
      ]
     },
     "metadata": {
      "needs_background": "light"
     },
     "output_type": "display_data"
    }
   ],
   "source": [
    "# A visualization for the difference between men and women \n",
    "showed_df['Gender'].value_counts().plot(kind = 'bar');\n",
    "plt.title('Difference between men and women ');\n",
    "plt.xlabel('Genders', fontsize = 13);\n",
    "plt.ylabel('Number or Patients', fontsize = 13);"
   ]
  },
  {
   "cell_type": "markdown",
   "metadata": {},
   "source": [
    "> It appears women are more likely to show up .\n",
    "\n",
    "> But what about sms messages ? "
   ]
  },
  {
   "cell_type": "code",
   "execution_count": 30,
   "metadata": {},
   "outputs": [],
   "source": [
    "# first get the number of both who recieved and those who didn't in separate variables .\n",
    "recieved = df_grouped['SMS_received'].value_counts().loc['No'].loc[1]\n",
    "no_recieved = df_grouped['SMS_received'].value_counts().loc['No'].loc[0]"
   ]
  },
  {
   "cell_type": "code",
   "execution_count": 69,
   "metadata": {},
   "outputs": [
    {
     "data": {
      "image/png": "[encoded data removed]",
      "text/plain": [
       "<matplotlib.figure.Figure at 0x7f278bbd4128>"
      ]
     },
     "metadata": {
      "needs_background": "light"
     },
     "output_type": "display_data"
    }
   ],
   "source": [
    "# now we visualize it\n",
    "plt.bar(['recieved', 'didn\\'t recieve'], [recieved, no_recieved], color = 'crimson');\n",
    "plt.title('SMS recieved');\n",
    "plt.xlabel('Recieved or not', fontsize = 13);\n",
    "plt.ylabel('Number or Patients', fontsize = 13);"
   ]
  },
  {
   "cell_type": "markdown",
   "metadata": {},
   "source": [
    "> Their is a considerable part of those who showed up who revieved an SMS but most of them didn't recieve one . "
   ]
  },
  {
   "cell_type": "markdown",
   "metadata": {},
   "source": [
    "### Result :\n",
    "> We found somethings which may be helpful in identifing who is more likely to show up or not and we are going to discuss them and the limitions on the analysis in the next step\n"
   ]
  },
  {
   "cell_type": "markdown",
   "metadata": {},
   "source": [
    "<a id='conclusions'></a>\n",
    "## Conclusions\n",
    "#### Findings :\n",
    "> The first thing i found is older people are more likely to show up, it's not by a huge age gap but still.\n",
    "\n",
    "> The second thing is people with Scholerships are more likely to show up .\n",
    "\n",
    "> the third thing is people with Hipertension, Diabetes ,Alcoholism or a Handcap are more likely to show up .\n",
    "\n",
    "> the forth thing most of those who shows up shows on wednesday and tuesday following it, very small percenage of people showed up or even booked an appointment on saturday .\n",
    "\n",
    "> most of the people who did show up are females .\n",
    "\n",
    "> and lastly a considerable portion of those who showed up has recieved an SMS message .\n",
    "\n",
    "#### Limitations :\n",
    "> The limitation i found on our dataset is the time part of the datetime column in the Appointment day dataset as both the hours, minutes and seconds are 0 and we can't decides which hour people showed up the most, we can't decide whichhour people didn't show up the most and the time in the ScheduledDay column isn't enough to help us accomplish that .\n",
    "\n",
    "#### Improvements : \n",
    "> the time data in appointment day, it can be a help to more see when are people more likely to show up \n",
    "\n",
    "> It can be a new column with the distance between the patient and the hospital which may help us see how the distance is related to people showing up or not .\n",
    "\n"
   ]
  },
  {
   "cell_type": "code",
   "execution_count": 32,
   "metadata": {},
   "outputs": [
    {
     "data": {
      "text/plain": [
       "0"
      ]
     },
     "execution_count": 32,
     "metadata": {},
     "output_type": "execute_result"
    }
   ],
   "source": [
    "from subprocess import call\n",
    "call(['python', '-m', 'nbconvert', 'Investigate_a_Dataset.ipynb'])"
   ]
  }
 ],
 "metadata": {
  "kernelspec": {
   "display_name": "Python 3",
   "language": "python",
   "name": "python3"
  },
  "language_info": {
   "codemirror_mode": {
    "name": "ipython",
    "version": 3
   },
   "file_extension": ".py",
   "mimetype": "text/x-python",
   "name": "python",
   "nbconvert_exporter": "python",
   "pygments_lexer": "ipython3",
   "version": "3.6.3"
  }
 },
 "nbformat": 4,
 "nbformat_minor": 2
}
